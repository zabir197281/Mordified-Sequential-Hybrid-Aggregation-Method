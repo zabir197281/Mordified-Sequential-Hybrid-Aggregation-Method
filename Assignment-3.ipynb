{
 "cells": [
  {
   "cell_type": "code",
   "execution_count": 297,
   "id": "d0eeb53e",
   "metadata": {},
   "outputs": [],
   "source": [
    "import pandas as pd"
   ]
  },
  {
   "cell_type": "code",
   "execution_count": 298,
   "id": "f397fa44",
   "metadata": {},
   "outputs": [],
   "source": [
    "file_path = 'C:\\\\Users\\\\ASUS\\\\Desktop\\\\Recomendor System\\\\Exercise-3\\\\ml-100k\\\\u.data'"
   ]
  },
  {
   "cell_type": "code",
   "execution_count": 299,
   "id": "04c091bf",
   "metadata": {},
   "outputs": [],
   "source": [
    "columns = ['user_id', 'movie_id', 'rating', 'timestamp']"
   ]
  },
  {
   "cell_type": "code",
   "execution_count": 300,
   "id": "ed25c4f0",
   "metadata": {},
   "outputs": [],
   "source": [
    "df = pd.read_csv(file_path, sep='\\t', names=columns)"
   ]
  },
  {
   "cell_type": "code",
   "execution_count": 301,
   "id": "b26fe08a",
   "metadata": {},
   "outputs": [
    {
     "data": {
      "text/html": [
       "<div>\n",
       "<style scoped>\n",
       "    .dataframe tbody tr th:only-of-type {\n",
       "        vertical-align: middle;\n",
       "    }\n",
       "\n",
       "    .dataframe tbody tr th {\n",
       "        vertical-align: top;\n",
       "    }\n",
       "\n",
       "    .dataframe thead th {\n",
       "        text-align: right;\n",
       "    }\n",
       "</style>\n",
       "<table border=\"1\" class=\"dataframe\">\n",
       "  <thead>\n",
       "    <tr style=\"text-align: right;\">\n",
       "      <th></th>\n",
       "      <th>user_id</th>\n",
       "      <th>movie_id</th>\n",
       "      <th>rating</th>\n",
       "      <th>timestamp</th>\n",
       "    </tr>\n",
       "  </thead>\n",
       "  <tbody>\n",
       "    <tr>\n",
       "      <th>0</th>\n",
       "      <td>196</td>\n",
       "      <td>242</td>\n",
       "      <td>3</td>\n",
       "      <td>881250949</td>\n",
       "    </tr>\n",
       "    <tr>\n",
       "      <th>1</th>\n",
       "      <td>186</td>\n",
       "      <td>302</td>\n",
       "      <td>3</td>\n",
       "      <td>891717742</td>\n",
       "    </tr>\n",
       "    <tr>\n",
       "      <th>2</th>\n",
       "      <td>22</td>\n",
       "      <td>377</td>\n",
       "      <td>1</td>\n",
       "      <td>878887116</td>\n",
       "    </tr>\n",
       "    <tr>\n",
       "      <th>3</th>\n",
       "      <td>244</td>\n",
       "      <td>51</td>\n",
       "      <td>2</td>\n",
       "      <td>880606923</td>\n",
       "    </tr>\n",
       "    <tr>\n",
       "      <th>4</th>\n",
       "      <td>166</td>\n",
       "      <td>346</td>\n",
       "      <td>1</td>\n",
       "      <td>886397596</td>\n",
       "    </tr>\n",
       "    <tr>\n",
       "      <th>...</th>\n",
       "      <td>...</td>\n",
       "      <td>...</td>\n",
       "      <td>...</td>\n",
       "      <td>...</td>\n",
       "    </tr>\n",
       "    <tr>\n",
       "      <th>99995</th>\n",
       "      <td>880</td>\n",
       "      <td>476</td>\n",
       "      <td>3</td>\n",
       "      <td>880175444</td>\n",
       "    </tr>\n",
       "    <tr>\n",
       "      <th>99996</th>\n",
       "      <td>716</td>\n",
       "      <td>204</td>\n",
       "      <td>5</td>\n",
       "      <td>879795543</td>\n",
       "    </tr>\n",
       "    <tr>\n",
       "      <th>99997</th>\n",
       "      <td>276</td>\n",
       "      <td>1090</td>\n",
       "      <td>1</td>\n",
       "      <td>874795795</td>\n",
       "    </tr>\n",
       "    <tr>\n",
       "      <th>99998</th>\n",
       "      <td>13</td>\n",
       "      <td>225</td>\n",
       "      <td>2</td>\n",
       "      <td>882399156</td>\n",
       "    </tr>\n",
       "    <tr>\n",
       "      <th>99999</th>\n",
       "      <td>12</td>\n",
       "      <td>203</td>\n",
       "      <td>3</td>\n",
       "      <td>879959583</td>\n",
       "    </tr>\n",
       "  </tbody>\n",
       "</table>\n",
       "<p>100000 rows × 4 columns</p>\n",
       "</div>"
      ],
      "text/plain": [
       "       user_id  movie_id  rating  timestamp\n",
       "0          196       242       3  881250949\n",
       "1          186       302       3  891717742\n",
       "2           22       377       1  878887116\n",
       "3          244        51       2  880606923\n",
       "4          166       346       1  886397596\n",
       "...        ...       ...     ...        ...\n",
       "99995      880       476       3  880175444\n",
       "99996      716       204       5  879795543\n",
       "99997      276      1090       1  874795795\n",
       "99998       13       225       2  882399156\n",
       "99999       12       203       3  879959583\n",
       "\n",
       "[100000 rows x 4 columns]"
      ]
     },
     "metadata": {},
     "output_type": "display_data"
    }
   ],
   "source": [
    "display(df)"
   ]
  },
  {
   "cell_type": "code",
   "execution_count": 302,
   "id": "9fa27c1e",
   "metadata": {},
   "outputs": [],
   "source": [
    "rows,columns= df.shape"
   ]
  },
  {
   "cell_type": "code",
   "execution_count": 303,
   "id": "ae063c0d",
   "metadata": {},
   "outputs": [
    {
     "name": "stdout",
     "output_type": "stream",
     "text": [
      "The number of columns in this data set is = 4\n",
      "The number of rows in this data set is = 100000\n"
     ]
    }
   ],
   "source": [
    "print(f\"The number of columns in this data set is = {columns}\")\n",
    "print(f\"The number of rows in this data set is = {rows}\")"
   ]
  },
  {
   "cell_type": "code",
   "execution_count": 304,
   "id": "0c494c04",
   "metadata": {},
   "outputs": [
    {
     "data": {
      "text/html": [
       "<div>\n",
       "<style scoped>\n",
       "    .dataframe tbody tr th:only-of-type {\n",
       "        vertical-align: middle;\n",
       "    }\n",
       "\n",
       "    .dataframe tbody tr th {\n",
       "        vertical-align: top;\n",
       "    }\n",
       "\n",
       "    .dataframe thead th {\n",
       "        text-align: right;\n",
       "    }\n",
       "</style>\n",
       "<table border=\"1\" class=\"dataframe\">\n",
       "  <thead>\n",
       "    <tr style=\"text-align: right;\">\n",
       "      <th></th>\n",
       "      <th>user_id</th>\n",
       "      <th>movie_id</th>\n",
       "      <th>rating</th>\n",
       "      <th>timestamp</th>\n",
       "    </tr>\n",
       "  </thead>\n",
       "  <tbody>\n",
       "    <tr>\n",
       "      <th>0</th>\n",
       "      <td>196</td>\n",
       "      <td>242</td>\n",
       "      <td>3</td>\n",
       "      <td>881250949</td>\n",
       "    </tr>\n",
       "    <tr>\n",
       "      <th>940</th>\n",
       "      <td>196</td>\n",
       "      <td>393</td>\n",
       "      <td>4</td>\n",
       "      <td>881251863</td>\n",
       "    </tr>\n",
       "    <tr>\n",
       "      <th>1133</th>\n",
       "      <td>196</td>\n",
       "      <td>381</td>\n",
       "      <td>4</td>\n",
       "      <td>881251728</td>\n",
       "    </tr>\n",
       "    <tr>\n",
       "      <th>1812</th>\n",
       "      <td>196</td>\n",
       "      <td>251</td>\n",
       "      <td>3</td>\n",
       "      <td>881251274</td>\n",
       "    </tr>\n",
       "    <tr>\n",
       "      <th>1896</th>\n",
       "      <td>196</td>\n",
       "      <td>655</td>\n",
       "      <td>5</td>\n",
       "      <td>881251793</td>\n",
       "    </tr>\n",
       "    <tr>\n",
       "      <th>2374</th>\n",
       "      <td>196</td>\n",
       "      <td>67</td>\n",
       "      <td>5</td>\n",
       "      <td>881252017</td>\n",
       "    </tr>\n",
       "    <tr>\n",
       "      <th>6910</th>\n",
       "      <td>196</td>\n",
       "      <td>306</td>\n",
       "      <td>4</td>\n",
       "      <td>881251021</td>\n",
       "    </tr>\n",
       "    <tr>\n",
       "      <th>7517</th>\n",
       "      <td>196</td>\n",
       "      <td>238</td>\n",
       "      <td>4</td>\n",
       "      <td>881251820</td>\n",
       "    </tr>\n",
       "    <tr>\n",
       "      <th>7842</th>\n",
       "      <td>196</td>\n",
       "      <td>663</td>\n",
       "      <td>5</td>\n",
       "      <td>881251911</td>\n",
       "    </tr>\n",
       "    <tr>\n",
       "      <th>10017</th>\n",
       "      <td>196</td>\n",
       "      <td>111</td>\n",
       "      <td>4</td>\n",
       "      <td>881251793</td>\n",
       "    </tr>\n",
       "    <tr>\n",
       "      <th>10254</th>\n",
       "      <td>196</td>\n",
       "      <td>580</td>\n",
       "      <td>2</td>\n",
       "      <td>881252056</td>\n",
       "    </tr>\n",
       "    <tr>\n",
       "      <th>10981</th>\n",
       "      <td>196</td>\n",
       "      <td>25</td>\n",
       "      <td>4</td>\n",
       "      <td>881251955</td>\n",
       "    </tr>\n",
       "    <tr>\n",
       "      <th>13733</th>\n",
       "      <td>196</td>\n",
       "      <td>286</td>\n",
       "      <td>5</td>\n",
       "      <td>881250949</td>\n",
       "    </tr>\n",
       "    <tr>\n",
       "      <th>14606</th>\n",
       "      <td>196</td>\n",
       "      <td>94</td>\n",
       "      <td>3</td>\n",
       "      <td>881252172</td>\n",
       "    </tr>\n",
       "    <tr>\n",
       "      <th>16834</th>\n",
       "      <td>196</td>\n",
       "      <td>692</td>\n",
       "      <td>5</td>\n",
       "      <td>881252017</td>\n",
       "    </tr>\n",
       "    <tr>\n",
       "      <th>17102</th>\n",
       "      <td>196</td>\n",
       "      <td>8</td>\n",
       "      <td>5</td>\n",
       "      <td>881251753</td>\n",
       "    </tr>\n",
       "    <tr>\n",
       "      <th>17830</th>\n",
       "      <td>196</td>\n",
       "      <td>428</td>\n",
       "      <td>4</td>\n",
       "      <td>881251702</td>\n",
       "    </tr>\n",
       "    <tr>\n",
       "      <th>18853</th>\n",
       "      <td>196</td>\n",
       "      <td>1118</td>\n",
       "      <td>4</td>\n",
       "      <td>881252128</td>\n",
       "    </tr>\n",
       "    <tr>\n",
       "      <th>21605</th>\n",
       "      <td>196</td>\n",
       "      <td>70</td>\n",
       "      <td>3</td>\n",
       "      <td>881251842</td>\n",
       "    </tr>\n",
       "    <tr>\n",
       "      <th>22271</th>\n",
       "      <td>196</td>\n",
       "      <td>66</td>\n",
       "      <td>3</td>\n",
       "      <td>881251911</td>\n",
       "    </tr>\n",
       "    <tr>\n",
       "      <th>22773</th>\n",
       "      <td>196</td>\n",
       "      <td>257</td>\n",
       "      <td>2</td>\n",
       "      <td>881251577</td>\n",
       "    </tr>\n",
       "    <tr>\n",
       "      <th>23189</th>\n",
       "      <td>196</td>\n",
       "      <td>108</td>\n",
       "      <td>4</td>\n",
       "      <td>881252110</td>\n",
       "    </tr>\n",
       "    <tr>\n",
       "      <th>24030</th>\n",
       "      <td>196</td>\n",
       "      <td>202</td>\n",
       "      <td>3</td>\n",
       "      <td>881251728</td>\n",
       "    </tr>\n",
       "    <tr>\n",
       "      <th>25726</th>\n",
       "      <td>196</td>\n",
       "      <td>340</td>\n",
       "      <td>3</td>\n",
       "      <td>881251045</td>\n",
       "    </tr>\n",
       "    <tr>\n",
       "      <th>32721</th>\n",
       "      <td>196</td>\n",
       "      <td>287</td>\n",
       "      <td>3</td>\n",
       "      <td>881251884</td>\n",
       "    </tr>\n",
       "    <tr>\n",
       "      <th>33536</th>\n",
       "      <td>196</td>\n",
       "      <td>116</td>\n",
       "      <td>3</td>\n",
       "      <td>881251753</td>\n",
       "    </tr>\n",
       "    <tr>\n",
       "      <th>35197</th>\n",
       "      <td>196</td>\n",
       "      <td>382</td>\n",
       "      <td>4</td>\n",
       "      <td>881251843</td>\n",
       "    </tr>\n",
       "    <tr>\n",
       "      <th>36281</th>\n",
       "      <td>196</td>\n",
       "      <td>285</td>\n",
       "      <td>5</td>\n",
       "      <td>881251753</td>\n",
       "    </tr>\n",
       "    <tr>\n",
       "      <th>41539</th>\n",
       "      <td>196</td>\n",
       "      <td>1241</td>\n",
       "      <td>3</td>\n",
       "      <td>881251642</td>\n",
       "    </tr>\n",
       "    <tr>\n",
       "      <th>42384</th>\n",
       "      <td>196</td>\n",
       "      <td>1007</td>\n",
       "      <td>4</td>\n",
       "      <td>881251601</td>\n",
       "    </tr>\n",
       "    <tr>\n",
       "      <th>50147</th>\n",
       "      <td>196</td>\n",
       "      <td>411</td>\n",
       "      <td>4</td>\n",
       "      <td>881252090</td>\n",
       "    </tr>\n",
       "    <tr>\n",
       "      <th>52726</th>\n",
       "      <td>196</td>\n",
       "      <td>153</td>\n",
       "      <td>5</td>\n",
       "      <td>881251820</td>\n",
       "    </tr>\n",
       "    <tr>\n",
       "      <th>56628</th>\n",
       "      <td>196</td>\n",
       "      <td>13</td>\n",
       "      <td>2</td>\n",
       "      <td>881251955</td>\n",
       "    </tr>\n",
       "    <tr>\n",
       "      <th>59165</th>\n",
       "      <td>196</td>\n",
       "      <td>762</td>\n",
       "      <td>3</td>\n",
       "      <td>881251955</td>\n",
       "    </tr>\n",
       "    <tr>\n",
       "      <th>59607</th>\n",
       "      <td>196</td>\n",
       "      <td>173</td>\n",
       "      <td>2</td>\n",
       "      <td>881251820</td>\n",
       "    </tr>\n",
       "    <tr>\n",
       "      <th>60199</th>\n",
       "      <td>196</td>\n",
       "      <td>1022</td>\n",
       "      <td>4</td>\n",
       "      <td>881251143</td>\n",
       "    </tr>\n",
       "    <tr>\n",
       "      <th>60706</th>\n",
       "      <td>196</td>\n",
       "      <td>845</td>\n",
       "      <td>4</td>\n",
       "      <td>881251954</td>\n",
       "    </tr>\n",
       "    <tr>\n",
       "      <th>78787</th>\n",
       "      <td>196</td>\n",
       "      <td>269</td>\n",
       "      <td>3</td>\n",
       "      <td>881250949</td>\n",
       "    </tr>\n",
       "    <tr>\n",
       "      <th>87863</th>\n",
       "      <td>196</td>\n",
       "      <td>110</td>\n",
       "      <td>1</td>\n",
       "      <td>881252305</td>\n",
       "    </tr>\n",
       "  </tbody>\n",
       "</table>\n",
       "</div>"
      ],
      "text/plain": [
       "       user_id  movie_id  rating  timestamp\n",
       "0          196       242       3  881250949\n",
       "940        196       393       4  881251863\n",
       "1133       196       381       4  881251728\n",
       "1812       196       251       3  881251274\n",
       "1896       196       655       5  881251793\n",
       "2374       196        67       5  881252017\n",
       "6910       196       306       4  881251021\n",
       "7517       196       238       4  881251820\n",
       "7842       196       663       5  881251911\n",
       "10017      196       111       4  881251793\n",
       "10254      196       580       2  881252056\n",
       "10981      196        25       4  881251955\n",
       "13733      196       286       5  881250949\n",
       "14606      196        94       3  881252172\n",
       "16834      196       692       5  881252017\n",
       "17102      196         8       5  881251753\n",
       "17830      196       428       4  881251702\n",
       "18853      196      1118       4  881252128\n",
       "21605      196        70       3  881251842\n",
       "22271      196        66       3  881251911\n",
       "22773      196       257       2  881251577\n",
       "23189      196       108       4  881252110\n",
       "24030      196       202       3  881251728\n",
       "25726      196       340       3  881251045\n",
       "32721      196       287       3  881251884\n",
       "33536      196       116       3  881251753\n",
       "35197      196       382       4  881251843\n",
       "36281      196       285       5  881251753\n",
       "41539      196      1241       3  881251642\n",
       "42384      196      1007       4  881251601\n",
       "50147      196       411       4  881252090\n",
       "52726      196       153       5  881251820\n",
       "56628      196        13       2  881251955\n",
       "59165      196       762       3  881251955\n",
       "59607      196       173       2  881251820\n",
       "60199      196      1022       4  881251143\n",
       "60706      196       845       4  881251954\n",
       "78787      196       269       3  881250949\n",
       "87863      196       110       1  881252305"
      ]
     },
     "metadata": {},
     "output_type": "display_data"
    },
    {
     "name": "stdout",
     "output_type": "stream",
     "text": [
      "The number of rows of user_id 196 is = 39\n"
     ]
    }
   ],
   "source": [
    "\"\"\"Filter the data for User ID 196\"\"\"\n",
    "user_196_data = df[df['user_id'] == 196]\n",
    "display(user_196_data)\n",
    "print(f\"The number of rows of user_id 196 is = {user_196_data.shape[0]}\")"
   ]
  },
  {
   "cell_type": "code",
   "execution_count": 305,
   "id": "97d0f9ae",
   "metadata": {},
   "outputs": [],
   "source": [
    "from scipy.stats import pearsonr\n",
    "from collections import defaultdict"
   ]
  },
  {
   "cell_type": "code",
   "execution_count": 306,
   "id": "13f532bb",
   "metadata": {},
   "outputs": [],
   "source": [
    "\"\"\"Create a user-item matrix\"\"\"\n",
    "user_item_matrix = df.pivot_table(index='movie_id', columns='user_id', values='rating')"
   ]
  },
  {
   "cell_type": "code",
   "execution_count": 307,
   "id": "63346cda",
   "metadata": {},
   "outputs": [
    {
     "data": {
      "text/html": [
       "<div>\n",
       "<style scoped>\n",
       "    .dataframe tbody tr th:only-of-type {\n",
       "        vertical-align: middle;\n",
       "    }\n",
       "\n",
       "    .dataframe tbody tr th {\n",
       "        vertical-align: top;\n",
       "    }\n",
       "\n",
       "    .dataframe thead th {\n",
       "        text-align: right;\n",
       "    }\n",
       "</style>\n",
       "<table border=\"1\" class=\"dataframe\">\n",
       "  <thead>\n",
       "    <tr style=\"text-align: right;\">\n",
       "      <th>user_id</th>\n",
       "      <th>1</th>\n",
       "      <th>2</th>\n",
       "      <th>3</th>\n",
       "      <th>4</th>\n",
       "      <th>5</th>\n",
       "      <th>6</th>\n",
       "      <th>7</th>\n",
       "      <th>8</th>\n",
       "      <th>9</th>\n",
       "      <th>10</th>\n",
       "      <th>...</th>\n",
       "      <th>934</th>\n",
       "      <th>935</th>\n",
       "      <th>936</th>\n",
       "      <th>937</th>\n",
       "      <th>938</th>\n",
       "      <th>939</th>\n",
       "      <th>940</th>\n",
       "      <th>941</th>\n",
       "      <th>942</th>\n",
       "      <th>943</th>\n",
       "    </tr>\n",
       "    <tr>\n",
       "      <th>movie_id</th>\n",
       "      <th></th>\n",
       "      <th></th>\n",
       "      <th></th>\n",
       "      <th></th>\n",
       "      <th></th>\n",
       "      <th></th>\n",
       "      <th></th>\n",
       "      <th></th>\n",
       "      <th></th>\n",
       "      <th></th>\n",
       "      <th></th>\n",
       "      <th></th>\n",
       "      <th></th>\n",
       "      <th></th>\n",
       "      <th></th>\n",
       "      <th></th>\n",
       "      <th></th>\n",
       "      <th></th>\n",
       "      <th></th>\n",
       "      <th></th>\n",
       "      <th></th>\n",
       "    </tr>\n",
       "  </thead>\n",
       "  <tbody>\n",
       "    <tr>\n",
       "      <th>1</th>\n",
       "      <td>5.0</td>\n",
       "      <td>4.0</td>\n",
       "      <td>NaN</td>\n",
       "      <td>NaN</td>\n",
       "      <td>4.0</td>\n",
       "      <td>4.0</td>\n",
       "      <td>NaN</td>\n",
       "      <td>NaN</td>\n",
       "      <td>NaN</td>\n",
       "      <td>4.0</td>\n",
       "      <td>...</td>\n",
       "      <td>2.0</td>\n",
       "      <td>3.0</td>\n",
       "      <td>4.0</td>\n",
       "      <td>NaN</td>\n",
       "      <td>4.0</td>\n",
       "      <td>NaN</td>\n",
       "      <td>NaN</td>\n",
       "      <td>5.0</td>\n",
       "      <td>NaN</td>\n",
       "      <td>NaN</td>\n",
       "    </tr>\n",
       "    <tr>\n",
       "      <th>2</th>\n",
       "      <td>3.0</td>\n",
       "      <td>NaN</td>\n",
       "      <td>NaN</td>\n",
       "      <td>NaN</td>\n",
       "      <td>3.0</td>\n",
       "      <td>NaN</td>\n",
       "      <td>NaN</td>\n",
       "      <td>NaN</td>\n",
       "      <td>NaN</td>\n",
       "      <td>NaN</td>\n",
       "      <td>...</td>\n",
       "      <td>4.0</td>\n",
       "      <td>NaN</td>\n",
       "      <td>NaN</td>\n",
       "      <td>NaN</td>\n",
       "      <td>NaN</td>\n",
       "      <td>NaN</td>\n",
       "      <td>NaN</td>\n",
       "      <td>NaN</td>\n",
       "      <td>NaN</td>\n",
       "      <td>5.0</td>\n",
       "    </tr>\n",
       "    <tr>\n",
       "      <th>3</th>\n",
       "      <td>4.0</td>\n",
       "      <td>NaN</td>\n",
       "      <td>NaN</td>\n",
       "      <td>NaN</td>\n",
       "      <td>NaN</td>\n",
       "      <td>NaN</td>\n",
       "      <td>NaN</td>\n",
       "      <td>NaN</td>\n",
       "      <td>NaN</td>\n",
       "      <td>NaN</td>\n",
       "      <td>...</td>\n",
       "      <td>NaN</td>\n",
       "      <td>NaN</td>\n",
       "      <td>4.0</td>\n",
       "      <td>NaN</td>\n",
       "      <td>NaN</td>\n",
       "      <td>NaN</td>\n",
       "      <td>NaN</td>\n",
       "      <td>NaN</td>\n",
       "      <td>NaN</td>\n",
       "      <td>NaN</td>\n",
       "    </tr>\n",
       "    <tr>\n",
       "      <th>4</th>\n",
       "      <td>3.0</td>\n",
       "      <td>NaN</td>\n",
       "      <td>NaN</td>\n",
       "      <td>NaN</td>\n",
       "      <td>NaN</td>\n",
       "      <td>NaN</td>\n",
       "      <td>5.0</td>\n",
       "      <td>NaN</td>\n",
       "      <td>NaN</td>\n",
       "      <td>4.0</td>\n",
       "      <td>...</td>\n",
       "      <td>5.0</td>\n",
       "      <td>NaN</td>\n",
       "      <td>NaN</td>\n",
       "      <td>NaN</td>\n",
       "      <td>NaN</td>\n",
       "      <td>NaN</td>\n",
       "      <td>2.0</td>\n",
       "      <td>NaN</td>\n",
       "      <td>NaN</td>\n",
       "      <td>NaN</td>\n",
       "    </tr>\n",
       "    <tr>\n",
       "      <th>5</th>\n",
       "      <td>3.0</td>\n",
       "      <td>NaN</td>\n",
       "      <td>NaN</td>\n",
       "      <td>NaN</td>\n",
       "      <td>NaN</td>\n",
       "      <td>NaN</td>\n",
       "      <td>NaN</td>\n",
       "      <td>NaN</td>\n",
       "      <td>NaN</td>\n",
       "      <td>NaN</td>\n",
       "      <td>...</td>\n",
       "      <td>NaN</td>\n",
       "      <td>NaN</td>\n",
       "      <td>NaN</td>\n",
       "      <td>NaN</td>\n",
       "      <td>NaN</td>\n",
       "      <td>NaN</td>\n",
       "      <td>NaN</td>\n",
       "      <td>NaN</td>\n",
       "      <td>NaN</td>\n",
       "      <td>NaN</td>\n",
       "    </tr>\n",
       "    <tr>\n",
       "      <th>...</th>\n",
       "      <td>...</td>\n",
       "      <td>...</td>\n",
       "      <td>...</td>\n",
       "      <td>...</td>\n",
       "      <td>...</td>\n",
       "      <td>...</td>\n",
       "      <td>...</td>\n",
       "      <td>...</td>\n",
       "      <td>...</td>\n",
       "      <td>...</td>\n",
       "      <td>...</td>\n",
       "      <td>...</td>\n",
       "      <td>...</td>\n",
       "      <td>...</td>\n",
       "      <td>...</td>\n",
       "      <td>...</td>\n",
       "      <td>...</td>\n",
       "      <td>...</td>\n",
       "      <td>...</td>\n",
       "      <td>...</td>\n",
       "      <td>...</td>\n",
       "    </tr>\n",
       "    <tr>\n",
       "      <th>1678</th>\n",
       "      <td>NaN</td>\n",
       "      <td>NaN</td>\n",
       "      <td>NaN</td>\n",
       "      <td>NaN</td>\n",
       "      <td>NaN</td>\n",
       "      <td>NaN</td>\n",
       "      <td>NaN</td>\n",
       "      <td>NaN</td>\n",
       "      <td>NaN</td>\n",
       "      <td>NaN</td>\n",
       "      <td>...</td>\n",
       "      <td>NaN</td>\n",
       "      <td>NaN</td>\n",
       "      <td>NaN</td>\n",
       "      <td>NaN</td>\n",
       "      <td>NaN</td>\n",
       "      <td>NaN</td>\n",
       "      <td>NaN</td>\n",
       "      <td>NaN</td>\n",
       "      <td>NaN</td>\n",
       "      <td>NaN</td>\n",
       "    </tr>\n",
       "    <tr>\n",
       "      <th>1679</th>\n",
       "      <td>NaN</td>\n",
       "      <td>NaN</td>\n",
       "      <td>NaN</td>\n",
       "      <td>NaN</td>\n",
       "      <td>NaN</td>\n",
       "      <td>NaN</td>\n",
       "      <td>NaN</td>\n",
       "      <td>NaN</td>\n",
       "      <td>NaN</td>\n",
       "      <td>NaN</td>\n",
       "      <td>...</td>\n",
       "      <td>NaN</td>\n",
       "      <td>NaN</td>\n",
       "      <td>NaN</td>\n",
       "      <td>NaN</td>\n",
       "      <td>NaN</td>\n",
       "      <td>NaN</td>\n",
       "      <td>NaN</td>\n",
       "      <td>NaN</td>\n",
       "      <td>NaN</td>\n",
       "      <td>NaN</td>\n",
       "    </tr>\n",
       "    <tr>\n",
       "      <th>1680</th>\n",
       "      <td>NaN</td>\n",
       "      <td>NaN</td>\n",
       "      <td>NaN</td>\n",
       "      <td>NaN</td>\n",
       "      <td>NaN</td>\n",
       "      <td>NaN</td>\n",
       "      <td>NaN</td>\n",
       "      <td>NaN</td>\n",
       "      <td>NaN</td>\n",
       "      <td>NaN</td>\n",
       "      <td>...</td>\n",
       "      <td>NaN</td>\n",
       "      <td>NaN</td>\n",
       "      <td>NaN</td>\n",
       "      <td>NaN</td>\n",
       "      <td>NaN</td>\n",
       "      <td>NaN</td>\n",
       "      <td>NaN</td>\n",
       "      <td>NaN</td>\n",
       "      <td>NaN</td>\n",
       "      <td>NaN</td>\n",
       "    </tr>\n",
       "    <tr>\n",
       "      <th>1681</th>\n",
       "      <td>NaN</td>\n",
       "      <td>NaN</td>\n",
       "      <td>NaN</td>\n",
       "      <td>NaN</td>\n",
       "      <td>NaN</td>\n",
       "      <td>NaN</td>\n",
       "      <td>NaN</td>\n",
       "      <td>NaN</td>\n",
       "      <td>NaN</td>\n",
       "      <td>NaN</td>\n",
       "      <td>...</td>\n",
       "      <td>NaN</td>\n",
       "      <td>NaN</td>\n",
       "      <td>NaN</td>\n",
       "      <td>NaN</td>\n",
       "      <td>NaN</td>\n",
       "      <td>NaN</td>\n",
       "      <td>NaN</td>\n",
       "      <td>NaN</td>\n",
       "      <td>NaN</td>\n",
       "      <td>NaN</td>\n",
       "    </tr>\n",
       "    <tr>\n",
       "      <th>1682</th>\n",
       "      <td>NaN</td>\n",
       "      <td>NaN</td>\n",
       "      <td>NaN</td>\n",
       "      <td>NaN</td>\n",
       "      <td>NaN</td>\n",
       "      <td>NaN</td>\n",
       "      <td>NaN</td>\n",
       "      <td>NaN</td>\n",
       "      <td>NaN</td>\n",
       "      <td>NaN</td>\n",
       "      <td>...</td>\n",
       "      <td>NaN</td>\n",
       "      <td>NaN</td>\n",
       "      <td>NaN</td>\n",
       "      <td>NaN</td>\n",
       "      <td>NaN</td>\n",
       "      <td>NaN</td>\n",
       "      <td>NaN</td>\n",
       "      <td>NaN</td>\n",
       "      <td>NaN</td>\n",
       "      <td>NaN</td>\n",
       "    </tr>\n",
       "  </tbody>\n",
       "</table>\n",
       "<p>1682 rows × 943 columns</p>\n",
       "</div>"
      ],
      "text/plain": [
       "user_id   1    2    3    4    5    6    7    8    9    10   ...  934  935  \\\n",
       "movie_id                                                    ...             \n",
       "1         5.0  4.0  NaN  NaN  4.0  4.0  NaN  NaN  NaN  4.0  ...  2.0  3.0   \n",
       "2         3.0  NaN  NaN  NaN  3.0  NaN  NaN  NaN  NaN  NaN  ...  4.0  NaN   \n",
       "3         4.0  NaN  NaN  NaN  NaN  NaN  NaN  NaN  NaN  NaN  ...  NaN  NaN   \n",
       "4         3.0  NaN  NaN  NaN  NaN  NaN  5.0  NaN  NaN  4.0  ...  5.0  NaN   \n",
       "5         3.0  NaN  NaN  NaN  NaN  NaN  NaN  NaN  NaN  NaN  ...  NaN  NaN   \n",
       "...       ...  ...  ...  ...  ...  ...  ...  ...  ...  ...  ...  ...  ...   \n",
       "1678      NaN  NaN  NaN  NaN  NaN  NaN  NaN  NaN  NaN  NaN  ...  NaN  NaN   \n",
       "1679      NaN  NaN  NaN  NaN  NaN  NaN  NaN  NaN  NaN  NaN  ...  NaN  NaN   \n",
       "1680      NaN  NaN  NaN  NaN  NaN  NaN  NaN  NaN  NaN  NaN  ...  NaN  NaN   \n",
       "1681      NaN  NaN  NaN  NaN  NaN  NaN  NaN  NaN  NaN  NaN  ...  NaN  NaN   \n",
       "1682      NaN  NaN  NaN  NaN  NaN  NaN  NaN  NaN  NaN  NaN  ...  NaN  NaN   \n",
       "\n",
       "user_id   936  937  938  939  940  941  942  943  \n",
       "movie_id                                          \n",
       "1         4.0  NaN  4.0  NaN  NaN  5.0  NaN  NaN  \n",
       "2         NaN  NaN  NaN  NaN  NaN  NaN  NaN  5.0  \n",
       "3         4.0  NaN  NaN  NaN  NaN  NaN  NaN  NaN  \n",
       "4         NaN  NaN  NaN  NaN  2.0  NaN  NaN  NaN  \n",
       "5         NaN  NaN  NaN  NaN  NaN  NaN  NaN  NaN  \n",
       "...       ...  ...  ...  ...  ...  ...  ...  ...  \n",
       "1678      NaN  NaN  NaN  NaN  NaN  NaN  NaN  NaN  \n",
       "1679      NaN  NaN  NaN  NaN  NaN  NaN  NaN  NaN  \n",
       "1680      NaN  NaN  NaN  NaN  NaN  NaN  NaN  NaN  \n",
       "1681      NaN  NaN  NaN  NaN  NaN  NaN  NaN  NaN  \n",
       "1682      NaN  NaN  NaN  NaN  NaN  NaN  NaN  NaN  \n",
       "\n",
       "[1682 rows x 943 columns]"
      ]
     },
     "execution_count": 307,
     "metadata": {},
     "output_type": "execute_result"
    }
   ],
   "source": [
    "user_item_matrix"
   ]
  },
  {
   "cell_type": "code",
   "execution_count": 308,
   "id": "e9c2466e",
   "metadata": {},
   "outputs": [],
   "source": [
    "\"\"\"Function to calculate Pearson correlation between users\"\"\"\n",
    "def calculate_pearson_correlation(user_item_matrix):\n",
    "    user_corr = user_item_matrix.corr(method='pearson', min_periods=5)\n",
    "    return user_corr"
   ]
  },
  {
   "cell_type": "code",
   "execution_count": 309,
   "id": "a2919831",
   "metadata": {},
   "outputs": [],
   "source": [
    "correlation_matrix=calculate_pearson_correlation(user_item_matrix).fillna(0)"
   ]
  },
  {
   "cell_type": "code",
   "execution_count": 310,
   "id": "17b335e0",
   "metadata": {},
   "outputs": [
    {
     "data": {
      "text/html": [
       "<div>\n",
       "<style scoped>\n",
       "    .dataframe tbody tr th:only-of-type {\n",
       "        vertical-align: middle;\n",
       "    }\n",
       "\n",
       "    .dataframe tbody tr th {\n",
       "        vertical-align: top;\n",
       "    }\n",
       "\n",
       "    .dataframe thead th {\n",
       "        text-align: right;\n",
       "    }\n",
       "</style>\n",
       "<table border=\"1\" class=\"dataframe\">\n",
       "  <thead>\n",
       "    <tr style=\"text-align: right;\">\n",
       "      <th>user_id</th>\n",
       "      <th>1</th>\n",
       "      <th>2</th>\n",
       "      <th>3</th>\n",
       "      <th>4</th>\n",
       "      <th>5</th>\n",
       "      <th>6</th>\n",
       "      <th>7</th>\n",
       "      <th>8</th>\n",
       "      <th>9</th>\n",
       "      <th>10</th>\n",
       "      <th>...</th>\n",
       "      <th>934</th>\n",
       "      <th>935</th>\n",
       "      <th>936</th>\n",
       "      <th>937</th>\n",
       "      <th>938</th>\n",
       "      <th>939</th>\n",
       "      <th>940</th>\n",
       "      <th>941</th>\n",
       "      <th>942</th>\n",
       "      <th>943</th>\n",
       "    </tr>\n",
       "    <tr>\n",
       "      <th>user_id</th>\n",
       "      <th></th>\n",
       "      <th></th>\n",
       "      <th></th>\n",
       "      <th></th>\n",
       "      <th></th>\n",
       "      <th></th>\n",
       "      <th></th>\n",
       "      <th></th>\n",
       "      <th></th>\n",
       "      <th></th>\n",
       "      <th></th>\n",
       "      <th></th>\n",
       "      <th></th>\n",
       "      <th></th>\n",
       "      <th></th>\n",
       "      <th></th>\n",
       "      <th></th>\n",
       "      <th></th>\n",
       "      <th></th>\n",
       "      <th></th>\n",
       "      <th></th>\n",
       "    </tr>\n",
       "  </thead>\n",
       "  <tbody>\n",
       "    <tr>\n",
       "      <th>1</th>\n",
       "      <td>1.000000</td>\n",
       "      <td>1.608412e-01</td>\n",
       "      <td>0.112780</td>\n",
       "      <td>0.500000</td>\n",
       "      <td>0.420809</td>\n",
       "      <td>0.287159</td>\n",
       "      <td>0.258137</td>\n",
       "      <td>0.692086</td>\n",
       "      <td>-0.102062</td>\n",
       "      <td>-0.092344</td>\n",
       "      <td>...</td>\n",
       "      <td>0.061695</td>\n",
       "      <td>-2.602417e-01</td>\n",
       "      <td>0.383733</td>\n",
       "      <td>2.899974e-02</td>\n",
       "      <td>0.326744</td>\n",
       "      <td>5.343904e-01</td>\n",
       "      <td>0.263289</td>\n",
       "      <td>0.205616</td>\n",
       "      <td>-0.180784</td>\n",
       "      <td>0.067549</td>\n",
       "    </tr>\n",
       "    <tr>\n",
       "      <th>2</th>\n",
       "      <td>0.160841</td>\n",
       "      <td>1.000000e+00</td>\n",
       "      <td>0.067420</td>\n",
       "      <td>0.148522</td>\n",
       "      <td>0.327327</td>\n",
       "      <td>0.446269</td>\n",
       "      <td>0.643675</td>\n",
       "      <td>0.585491</td>\n",
       "      <td>0.242536</td>\n",
       "      <td>0.668145</td>\n",
       "      <td>...</td>\n",
       "      <td>0.021007</td>\n",
       "      <td>-2.711631e-01</td>\n",
       "      <td>0.214017</td>\n",
       "      <td>5.616449e-01</td>\n",
       "      <td>0.331587</td>\n",
       "      <td>-7.671236e-18</td>\n",
       "      <td>-0.011682</td>\n",
       "      <td>-0.062017</td>\n",
       "      <td>0.085960</td>\n",
       "      <td>0.479702</td>\n",
       "    </tr>\n",
       "    <tr>\n",
       "      <th>3</th>\n",
       "      <td>0.112780</td>\n",
       "      <td>6.741999e-02</td>\n",
       "      <td>1.000000</td>\n",
       "      <td>-0.262600</td>\n",
       "      <td>0.000000</td>\n",
       "      <td>-0.109109</td>\n",
       "      <td>0.064803</td>\n",
       "      <td>0.291937</td>\n",
       "      <td>0.000000</td>\n",
       "      <td>0.311086</td>\n",
       "      <td>...</td>\n",
       "      <td>0.000000</td>\n",
       "      <td>0.000000e+00</td>\n",
       "      <td>-0.045162</td>\n",
       "      <td>-5.233642e-17</td>\n",
       "      <td>-0.137523</td>\n",
       "      <td>0.000000e+00</td>\n",
       "      <td>-0.104678</td>\n",
       "      <td>0.000000</td>\n",
       "      <td>-0.011792</td>\n",
       "      <td>0.000000</td>\n",
       "    </tr>\n",
       "    <tr>\n",
       "      <th>4</th>\n",
       "      <td>0.500000</td>\n",
       "      <td>1.485221e-01</td>\n",
       "      <td>-0.262600</td>\n",
       "      <td>1.000000</td>\n",
       "      <td>0.000000</td>\n",
       "      <td>-0.581318</td>\n",
       "      <td>-0.266632</td>\n",
       "      <td>0.642938</td>\n",
       "      <td>0.000000</td>\n",
       "      <td>0.000000</td>\n",
       "      <td>...</td>\n",
       "      <td>0.000000</td>\n",
       "      <td>0.000000e+00</td>\n",
       "      <td>-0.203653</td>\n",
       "      <td>0.000000e+00</td>\n",
       "      <td>0.375000</td>\n",
       "      <td>0.000000e+00</td>\n",
       "      <td>0.850992</td>\n",
       "      <td>0.000000</td>\n",
       "      <td>0.412568</td>\n",
       "      <td>0.000000</td>\n",
       "    </tr>\n",
       "    <tr>\n",
       "      <th>5</th>\n",
       "      <td>0.420809</td>\n",
       "      <td>3.273268e-01</td>\n",
       "      <td>0.000000</td>\n",
       "      <td>0.000000</td>\n",
       "      <td>1.000000</td>\n",
       "      <td>0.241817</td>\n",
       "      <td>0.175630</td>\n",
       "      <td>0.537400</td>\n",
       "      <td>0.000000</td>\n",
       "      <td>0.087343</td>\n",
       "      <td>...</td>\n",
       "      <td>0.229532</td>\n",
       "      <td>-5.000000e-01</td>\n",
       "      <td>0.439286</td>\n",
       "      <td>6.085806e-01</td>\n",
       "      <td>0.484211</td>\n",
       "      <td>8.807048e-01</td>\n",
       "      <td>0.027038</td>\n",
       "      <td>0.468521</td>\n",
       "      <td>0.318163</td>\n",
       "      <td>0.346234</td>\n",
       "    </tr>\n",
       "    <tr>\n",
       "      <th>...</th>\n",
       "      <td>...</td>\n",
       "      <td>...</td>\n",
       "      <td>...</td>\n",
       "      <td>...</td>\n",
       "      <td>...</td>\n",
       "      <td>...</td>\n",
       "      <td>...</td>\n",
       "      <td>...</td>\n",
       "      <td>...</td>\n",
       "      <td>...</td>\n",
       "      <td>...</td>\n",
       "      <td>...</td>\n",
       "      <td>...</td>\n",
       "      <td>...</td>\n",
       "      <td>...</td>\n",
       "      <td>...</td>\n",
       "      <td>...</td>\n",
       "      <td>...</td>\n",
       "      <td>...</td>\n",
       "      <td>...</td>\n",
       "      <td>...</td>\n",
       "    </tr>\n",
       "    <tr>\n",
       "      <th>939</th>\n",
       "      <td>0.534390</td>\n",
       "      <td>-7.671236e-18</td>\n",
       "      <td>0.000000</td>\n",
       "      <td>0.000000</td>\n",
       "      <td>0.880705</td>\n",
       "      <td>0.206315</td>\n",
       "      <td>0.142404</td>\n",
       "      <td>0.000000</td>\n",
       "      <td>0.000000</td>\n",
       "      <td>0.316228</td>\n",
       "      <td>...</td>\n",
       "      <td>0.374351</td>\n",
       "      <td>-3.305898e-02</td>\n",
       "      <td>0.471172</td>\n",
       "      <td>-2.758386e-01</td>\n",
       "      <td>-0.073374</td>\n",
       "      <td>1.000000e+00</td>\n",
       "      <td>-0.534522</td>\n",
       "      <td>-0.131306</td>\n",
       "      <td>0.000000</td>\n",
       "      <td>-0.187317</td>\n",
       "    </tr>\n",
       "    <tr>\n",
       "      <th>940</th>\n",
       "      <td>0.263289</td>\n",
       "      <td>-1.168173e-02</td>\n",
       "      <td>-0.104678</td>\n",
       "      <td>0.850992</td>\n",
       "      <td>0.027038</td>\n",
       "      <td>-0.024419</td>\n",
       "      <td>0.000931</td>\n",
       "      <td>0.320487</td>\n",
       "      <td>0.171499</td>\n",
       "      <td>0.158976</td>\n",
       "      <td>...</td>\n",
       "      <td>-0.125059</td>\n",
       "      <td>4.352858e-01</td>\n",
       "      <td>-0.338327</td>\n",
       "      <td>-1.486075e-01</td>\n",
       "      <td>0.110022</td>\n",
       "      <td>-5.345225e-01</td>\n",
       "      <td>1.000000</td>\n",
       "      <td>0.632746</td>\n",
       "      <td>-0.022813</td>\n",
       "      <td>0.332497</td>\n",
       "    </tr>\n",
       "    <tr>\n",
       "      <th>941</th>\n",
       "      <td>0.205616</td>\n",
       "      <td>-6.201737e-02</td>\n",
       "      <td>0.000000</td>\n",
       "      <td>0.000000</td>\n",
       "      <td>0.468521</td>\n",
       "      <td>0.399186</td>\n",
       "      <td>0.000000</td>\n",
       "      <td>0.166667</td>\n",
       "      <td>0.000000</td>\n",
       "      <td>0.420084</td>\n",
       "      <td>...</td>\n",
       "      <td>0.000000</td>\n",
       "      <td>-2.355139e-16</td>\n",
       "      <td>0.273060</td>\n",
       "      <td>3.929526e-01</td>\n",
       "      <td>-0.214147</td>\n",
       "      <td>-1.313064e-01</td>\n",
       "      <td>0.632746</td>\n",
       "      <td>1.000000</td>\n",
       "      <td>0.000000</td>\n",
       "      <td>-0.395285</td>\n",
       "    </tr>\n",
       "    <tr>\n",
       "      <th>942</th>\n",
       "      <td>-0.180784</td>\n",
       "      <td>8.596024e-02</td>\n",
       "      <td>-0.011792</td>\n",
       "      <td>0.412568</td>\n",
       "      <td>0.318163</td>\n",
       "      <td>0.092349</td>\n",
       "      <td>0.452075</td>\n",
       "      <td>0.201328</td>\n",
       "      <td>0.000000</td>\n",
       "      <td>0.408994</td>\n",
       "      <td>...</td>\n",
       "      <td>0.438252</td>\n",
       "      <td>0.000000e+00</td>\n",
       "      <td>-0.216119</td>\n",
       "      <td>4.472136e-01</td>\n",
       "      <td>0.244989</td>\n",
       "      <td>0.000000e+00</td>\n",
       "      <td>-0.022813</td>\n",
       "      <td>0.000000</td>\n",
       "      <td>1.000000</td>\n",
       "      <td>0.277433</td>\n",
       "    </tr>\n",
       "    <tr>\n",
       "      <th>943</th>\n",
       "      <td>0.067549</td>\n",
       "      <td>4.797016e-01</td>\n",
       "      <td>0.000000</td>\n",
       "      <td>0.000000</td>\n",
       "      <td>0.346234</td>\n",
       "      <td>0.109833</td>\n",
       "      <td>0.279081</td>\n",
       "      <td>0.040741</td>\n",
       "      <td>0.000000</td>\n",
       "      <td>0.119523</td>\n",
       "      <td>...</td>\n",
       "      <td>0.081880</td>\n",
       "      <td>7.881104e-02</td>\n",
       "      <td>-0.117941</td>\n",
       "      <td>-7.426107e-01</td>\n",
       "      <td>0.426501</td>\n",
       "      <td>-1.873172e-01</td>\n",
       "      <td>0.332497</td>\n",
       "      <td>-0.395285</td>\n",
       "      <td>0.277433</td>\n",
       "      <td>1.000000</td>\n",
       "    </tr>\n",
       "  </tbody>\n",
       "</table>\n",
       "<p>943 rows × 943 columns</p>\n",
       "</div>"
      ],
      "text/plain": [
       "user_id       1             2         3         4         5         6    \\\n",
       "user_id                                                                   \n",
       "1        1.000000  1.608412e-01  0.112780  0.500000  0.420809  0.287159   \n",
       "2        0.160841  1.000000e+00  0.067420  0.148522  0.327327  0.446269   \n",
       "3        0.112780  6.741999e-02  1.000000 -0.262600  0.000000 -0.109109   \n",
       "4        0.500000  1.485221e-01 -0.262600  1.000000  0.000000 -0.581318   \n",
       "5        0.420809  3.273268e-01  0.000000  0.000000  1.000000  0.241817   \n",
       "...           ...           ...       ...       ...       ...       ...   \n",
       "939      0.534390 -7.671236e-18  0.000000  0.000000  0.880705  0.206315   \n",
       "940      0.263289 -1.168173e-02 -0.104678  0.850992  0.027038 -0.024419   \n",
       "941      0.205616 -6.201737e-02  0.000000  0.000000  0.468521  0.399186   \n",
       "942     -0.180784  8.596024e-02 -0.011792  0.412568  0.318163  0.092349   \n",
       "943      0.067549  4.797016e-01  0.000000  0.000000  0.346234  0.109833   \n",
       "\n",
       "user_id       7         8         9         10   ...       934           935  \\\n",
       "user_id                                          ...                           \n",
       "1        0.258137  0.692086 -0.102062 -0.092344  ...  0.061695 -2.602417e-01   \n",
       "2        0.643675  0.585491  0.242536  0.668145  ...  0.021007 -2.711631e-01   \n",
       "3        0.064803  0.291937  0.000000  0.311086  ...  0.000000  0.000000e+00   \n",
       "4       -0.266632  0.642938  0.000000  0.000000  ...  0.000000  0.000000e+00   \n",
       "5        0.175630  0.537400  0.000000  0.087343  ...  0.229532 -5.000000e-01   \n",
       "...           ...       ...       ...       ...  ...       ...           ...   \n",
       "939      0.142404  0.000000  0.000000  0.316228  ...  0.374351 -3.305898e-02   \n",
       "940      0.000931  0.320487  0.171499  0.158976  ... -0.125059  4.352858e-01   \n",
       "941      0.000000  0.166667  0.000000  0.420084  ...  0.000000 -2.355139e-16   \n",
       "942      0.452075  0.201328  0.000000  0.408994  ...  0.438252  0.000000e+00   \n",
       "943      0.279081  0.040741  0.000000  0.119523  ...  0.081880  7.881104e-02   \n",
       "\n",
       "user_id       936           937       938           939       940       941  \\\n",
       "user_id                                                                       \n",
       "1        0.383733  2.899974e-02  0.326744  5.343904e-01  0.263289  0.205616   \n",
       "2        0.214017  5.616449e-01  0.331587 -7.671236e-18 -0.011682 -0.062017   \n",
       "3       -0.045162 -5.233642e-17 -0.137523  0.000000e+00 -0.104678  0.000000   \n",
       "4       -0.203653  0.000000e+00  0.375000  0.000000e+00  0.850992  0.000000   \n",
       "5        0.439286  6.085806e-01  0.484211  8.807048e-01  0.027038  0.468521   \n",
       "...           ...           ...       ...           ...       ...       ...   \n",
       "939      0.471172 -2.758386e-01 -0.073374  1.000000e+00 -0.534522 -0.131306   \n",
       "940     -0.338327 -1.486075e-01  0.110022 -5.345225e-01  1.000000  0.632746   \n",
       "941      0.273060  3.929526e-01 -0.214147 -1.313064e-01  0.632746  1.000000   \n",
       "942     -0.216119  4.472136e-01  0.244989  0.000000e+00 -0.022813  0.000000   \n",
       "943     -0.117941 -7.426107e-01  0.426501 -1.873172e-01  0.332497 -0.395285   \n",
       "\n",
       "user_id       942       943  \n",
       "user_id                      \n",
       "1       -0.180784  0.067549  \n",
       "2        0.085960  0.479702  \n",
       "3       -0.011792  0.000000  \n",
       "4        0.412568  0.000000  \n",
       "5        0.318163  0.346234  \n",
       "...           ...       ...  \n",
       "939      0.000000 -0.187317  \n",
       "940     -0.022813  0.332497  \n",
       "941      0.000000 -0.395285  \n",
       "942      1.000000  0.277433  \n",
       "943      0.277433  1.000000  \n",
       "\n",
       "[943 rows x 943 columns]"
      ]
     },
     "execution_count": 310,
     "metadata": {},
     "output_type": "execute_result"
    }
   ],
   "source": [
    "correlation_matrix"
   ]
  },
  {
   "cell_type": "code",
   "execution_count": 311,
   "id": "d800a3bc",
   "metadata": {},
   "outputs": [],
   "source": [
    "import numpy as np\n",
    "user_mean_ratings = user_item_matrix.mean(axis=0)"
   ]
  },
  {
   "cell_type": "code",
   "execution_count": 312,
   "id": "bf396062",
   "metadata": {},
   "outputs": [],
   "source": [
    "def predict_score(active_user, item, user_item_matrix, correlation_matrix):\n",
    "    \"\"\"Calculate mean ratings for each user\"\"\"\n",
    "   \n",
    "    \n",
    "    \"\"\"Get active user mean rating and item ratings by other users\"\"\"\n",
    "    active_user_mean = user_mean_ratings.get(active_user, 0)\n",
    "    item_ratings = user_item_matrix.loc[item].dropna()\n",
    "    \n",
    "    \"\"\"Get correlations for the active user with others\"\"\"\n",
    "    user_correlations = correlation_matrix.get(active_user, {})\n",
    "    \n",
    "    \"\"\"Sorting the user_correlations matrix\"\"\"\n",
    "    user_correlations=user_correlations.sort_values(ascending=False)\n",
    "    \n",
    "    \"\"\"Sececting the top 50 similar users\"\"\"\n",
    "    user_correlations=user_correlations[0:51,]\n",
    "    \n",
    "    \"\"\"Calculate the weighted sum of deviations from the mea\"\"\"\n",
    "    weighted_sum = sum(user_correlations.get(other_user, 0) * (item_rating - user_mean_ratings.get(other_user, 0))\n",
    "                       for other_user, item_rating in item_ratings.items()\n",
    "                       if other_user != active_user)\n",
    "    \n",
    "    \"\"\"Calculate the sum of the absolute values of the correlations\"\"\"\n",
    "    sum_of_correlations = sum(abs(user_correlations.get(other_user, 0))\n",
    "                              for other_user in item_ratings.index\n",
    "                              if other_user != active_user)\n",
    "    \n",
    "    \"\"\"Predict the score\"\"\"\n",
    "    if sum_of_correlations == 0:\n",
    "        \"\"\"If there are no correlations, return the active user's mean rating\"\"\"\n",
    "        return active_user_mean\n",
    "    else:\n",
    "        \"\"\"Adjust the active user's average by the weighted sum of deviations\"\"\"\n",
    "        prediction = active_user_mean + (weighted_sum / sum_of_correlations)\n",
    "        \n",
    "        return  prediction"
   ]
  },
  {
   "cell_type": "code",
   "execution_count": 313,
   "id": "bc3443c0",
   "metadata": {},
   "outputs": [],
   "source": [
    "def get_recommended_movies(user_id, user_item_matrix, correlation_matrix):\n",
    "    \"\"\"Get the mean ratings for each user\"\"\"\n",
    "    user_mean_ratings = user_item_matrix.mean(axis=1)\n",
    "    \"\"\"Get the list of movies the user hasn't rated yet\"\"\"\n",
    "    unrated_movies = user_item_matrix.loc[user_item_matrix[user_id].isna(), :]\n",
    "    \"\"\"Dictionary to store the predicted ratings\"\"\"\n",
    "    predictions = {}\n",
    "    \n",
    "    for movie_id in unrated_movies.index:\n",
    "        \"\"\"Predict the rating for each unrated movie\"\"\"\n",
    "        predicted_rating = predict_score(user_id, movie_id, user_item_matrix, correlation_matrix)\n",
    "        predictions[movie_id] = predicted_rating\n",
    "    \n",
    "    \"\"\"Sort the predicted ratings in descending order and get the top n movies\"\"\"\n",
    "    recommended_movies = sorted(predictions.items(), key=lambda x: x[1], reverse=True)\n",
    "    return recommended_movies"
   ]
  },
  {
   "cell_type": "code",
   "execution_count": 314,
   "id": "58c39051",
   "metadata": {},
   "outputs": [],
   "source": [
    "user=196"
   ]
  },
  {
   "cell_type": "code",
   "execution_count": 315,
   "id": "c7563d1b",
   "metadata": {},
   "outputs": [],
   "source": [
    "recommended_movies=get_recommended_movies(user, user_item_matrix, correlation_matrix)\n"
   ]
  },
  {
   "cell_type": "markdown",
   "id": "ece09940",
   "metadata": {},
   "source": [
    "## Movie score predection for a group of three users with Average Method"
   ]
  },
  {
   "cell_type": "code",
   "execution_count": 316,
   "id": "265b6c40",
   "metadata": {},
   "outputs": [],
   "source": [
    "User_1 = 196\n",
    "User_2 = 222\n",
    "User_3 = 12\n",
    "\n",
    "group_average_method=[User_1,User_2,User_3]\n",
    "user_recomendations_average_method={}"
   ]
  },
  {
   "cell_type": "code",
   "execution_count": 317,
   "id": "185bb6cf",
   "metadata": {},
   "outputs": [],
   "source": [
    "for user in group_average_method:\n",
    "    uses_recomendation=get_recommended_movies(user, user_item_matrix, correlation_matrix)\n",
    "    user_recomendations_average_method[user]=  dict(uses_recomendation)"
   ]
  },
  {
   "cell_type": "code",
   "execution_count": 318,
   "id": "d6fb4e71",
   "metadata": {},
   "outputs": [],
   "source": [
    "def predected_score_avarage_method(user_recomendations_average_method):\n",
    "    first_user= user_recomendations_average_method[User_1]\n",
    "    second_user=user_recomendations_average_method[User_2]\n",
    "    third_user= user_recomendations_average_method[User_3]\n",
    "    all_keys=set(first_user.keys()) | set(second_user.keys()) | set(third_user.keys())\n",
    "    mean_value_of_movies = {key: (first_user.get(key, 0) + second_user.get(key, 0)+ third_user.get(key,0) )/ 3 for key in all_keys}\n",
    "    sorted_mean_value_of_movies=sorted(mean_value_of_movies.items(), key=lambda x: x[1], reverse=True)\n",
    "    return sorted_mean_value_of_movies\n"
   ]
  },
  {
   "cell_type": "code",
   "execution_count": 319,
   "id": "47afbbed",
   "metadata": {},
   "outputs": [],
   "source": [
    "sorted_predected_score_avarage_method=predected_score_avarage_method(user_recomendations_average_method)"
   ]
  },
  {
   "cell_type": "markdown",
   "id": "7a3fd436",
   "metadata": {},
   "source": [
    "## Movie score predection for a group of three users with Least Misery method"
   ]
  },
  {
   "cell_type": "code",
   "execution_count": 320,
   "id": "e22adcb0",
   "metadata": {},
   "outputs": [],
   "source": [
    "User_1 = 196\n",
    "User_2 = 222\n",
    "User_3 = 12\n",
    "\n",
    "group_least_misery_method=[User_1,User_2,User_3]\n",
    "user_recomendations_least_miseary={}"
   ]
  },
  {
   "cell_type": "code",
   "execution_count": 321,
   "id": "20668510",
   "metadata": {},
   "outputs": [],
   "source": [
    "for user in group_least_misery_method:\n",
    "    uses_recomendation=get_recommended_movies(user, user_item_matrix, correlation_matrix)\n",
    "    user_recomendations_least_miseary[user]=  dict(uses_recomendation)"
   ]
  },
  {
   "cell_type": "code",
   "execution_count": 322,
   "id": "a6d3663e",
   "metadata": {},
   "outputs": [],
   "source": [
    "def predected_score_least_misery(user_recomendations_least_miseary):\n",
    "    first_user= user_recomendations_least_miseary[User_1]\n",
    "    second_user=user_recomendations_least_miseary[User_2]\n",
    "    third_user= user_recomendations_least_miseary[User_3]\n",
    "    common_keys =set(first_user.keys()) & set(second_user.keys()) & set(third_user.keys())\n",
    "    min_values = {key: min(first_user[key],second_user[key],third_user[key]) for key in common_keys}\n",
    "    \n",
    "    sorted_min_value_of_movies=sorted(min_values.items(), key=lambda x: x[1], reverse=True)\n",
    "    return sorted_min_value_of_movies"
   ]
  },
  {
   "cell_type": "code",
   "execution_count": 323,
   "id": "c009e233",
   "metadata": {},
   "outputs": [],
   "source": [
    "sorted_predected_score_least_misery=dict(predected_score_least_misery(user_recomendations_least_miseary))"
   ]
  },
  {
   "cell_type": "markdown",
   "id": "304e3cbb",
   "metadata": {},
   "source": [
    "# First itaration for Sequential Hybrid Aggregation Method"
   ]
  },
  {
   "cell_type": "code",
   "execution_count": 324,
   "id": "e739a816",
   "metadata": {},
   "outputs": [],
   "source": [
    "sequential_group_recomendation_key={}"
   ]
  },
  {
   "cell_type": "code",
   "execution_count": 325,
   "id": "e343936a",
   "metadata": {},
   "outputs": [],
   "source": [
    "\"Initially first aloha is zero\"\n",
    "alpha_first=0"
   ]
  },
  {
   "cell_type": "code",
   "execution_count": 326,
   "id": "bc313ace",
   "metadata": {},
   "outputs": [],
   "source": [
    "def sequential_hybrid_aggregation_method(average_method_scores, least_misery_scores, alpha):\n",
    "    group_scores = {}\n",
    "     \n",
    "    for movie_id, avg_score in average_method_scores:\n",
    "        least_score = least_misery_scores.get(movie_id, 0)\n",
    "        score = (1 - alpha) * avg_score + alpha * least_score\n",
    "        if movie_id not in sequential_group_recomendation_key:\n",
    "            group_scores[movie_id] = score\n",
    "    sorted_group_scores = sorted(group_scores.items(), key=lambda x: x[1], reverse=True)\n",
    "    return sorted_group_scores"
   ]
  },
  {
   "cell_type": "code",
   "execution_count": 327,
   "id": "694424a3",
   "metadata": {},
   "outputs": [],
   "source": [
    "first_itaration= sequential_hybrid_aggregation_method(\n",
    "    sorted_predected_score_avarage_method, \n",
    "    sorted_predected_score_least_misery,\n",
    "    alpha_first)\n"
   ]
  },
  {
   "cell_type": "code",
   "execution_count": 328,
   "id": "6fe5bd61",
   "metadata": {},
   "outputs": [],
   "source": [
    "top_ten_first_itaration = dict(first_itaration[:10])"
   ]
  },
  {
   "cell_type": "code",
   "execution_count": 329,
   "id": "0f1323d2",
   "metadata": {},
   "outputs": [
    {
     "data": {
      "text/plain": [
       "{361: 4.93788214371975,\n",
       " 1233: 4.855417489993413,\n",
       " 60: 4.808180090015622,\n",
       " 902: 4.7219026808213025,\n",
       " 923: 4.613734573679286,\n",
       " 316: 4.580706464706021,\n",
       " 515: 4.550358555967716,\n",
       " 10: 4.511253786278218,\n",
       " 664: 4.501835732152288,\n",
       " 272: 4.483274731459637}"
      ]
     },
     "execution_count": 329,
     "metadata": {},
     "output_type": "execute_result"
    }
   ],
   "source": [
    "top_ten_first_itaration"
   ]
  },
  {
   "cell_type": "code",
   "execution_count": 330,
   "id": "9293f891",
   "metadata": {},
   "outputs": [],
   "source": [
    "sequential_group_recomendation_key.update(top_ten_first_itaration)"
   ]
  },
  {
   "cell_type": "code",
   "execution_count": 331,
   "id": "2db6193b",
   "metadata": {},
   "outputs": [],
   "source": [
    "group=[User_1,User_2,User_3]\n",
    "satisfaction_list=[]"
   ]
  },
  {
   "cell_type": "code",
   "execution_count": 332,
   "id": "7c1d228d",
   "metadata": {},
   "outputs": [],
   "source": [
    "def calculate_satisfaction(group_recomendation_ratings, group):\n",
    "    \n",
    "    for user in group:\n",
    "    \n",
    "        recommended_movies_for_single_user_dict=dict(get_recommended_movies(user, user_item_matrix, correlation_matrix))\n",
    "        recommended_movies_for_single_user=get_recommended_movies(user, user_item_matrix, correlation_matrix)\n",
    "     \n",
    "        group_list_sat=0\n",
    "        for i in group_recomendation_ratings:\n",
    "            group_list_sat=group_list_sat+recommended_movies_for_single_user_dict[i]\n",
    "\n",
    "        user_top_ratings=dict(recommended_movies_for_single_user[:10])\n",
    "        user_list_sat = sum(user_top_ratings.values())\n",
    "        satisfaction = group_list_sat / user_list_sat \n",
    "        satisfaction_list.append(satisfaction)\n",
    "        \n",
    "    return satisfaction_list\n"
   ]
  },
  {
   "cell_type": "code",
   "execution_count": 333,
   "id": "e0de7435",
   "metadata": {},
   "outputs": [],
   "source": [
    "satisfaction_list_one= calculate_satisfaction(top_ten_first_itaration, group)"
   ]
  },
  {
   "cell_type": "code",
   "execution_count": 334,
   "id": "694216b2",
   "metadata": {},
   "outputs": [
    {
     "data": {
      "text/plain": [
       "[0.8314383336121213, 0.9222797819925119, 0.8706085932253944]"
      ]
     },
     "execution_count": 334,
     "metadata": {},
     "output_type": "execute_result"
    }
   ],
   "source": [
    "satisfaction_list_one"
   ]
  },
  {
   "cell_type": "code",
   "execution_count": 335,
   "id": "4e5ae67c",
   "metadata": {},
   "outputs": [],
   "source": [
    "\"Calculating value for second itaration alpha\"\n",
    "alpha_second=max(satisfaction_list_one)-min(satisfaction_list_one)"
   ]
  },
  {
   "cell_type": "code",
   "execution_count": 336,
   "id": "1cf6af3d",
   "metadata": {},
   "outputs": [
    {
     "data": {
      "text/plain": [
       "0.09084144838039065"
      ]
     },
     "execution_count": 336,
     "metadata": {},
     "output_type": "execute_result"
    }
   ],
   "source": [
    "alpha_second"
   ]
  },
  {
   "cell_type": "markdown",
   "id": "df556127",
   "metadata": {},
   "source": [
    "# Second itaration for Sequential Hybrid Aggregation Method"
   ]
  },
  {
   "cell_type": "code",
   "execution_count": 337,
   "id": "693c2eae",
   "metadata": {},
   "outputs": [],
   "source": [
    "second_itaration= sequential_hybrid_aggregation_method(\n",
    "    sorted_predected_score_avarage_method, \n",
    "    sorted_predected_score_least_misery,\n",
    "    alpha_second)\n"
   ]
  },
  {
   "cell_type": "code",
   "execution_count": 338,
   "id": "55a262ca",
   "metadata": {},
   "outputs": [],
   "source": [
    "top_ten_second_itaration = dict(second_itaration[:10])"
   ]
  },
  {
   "cell_type": "code",
   "execution_count": 339,
   "id": "638316be",
   "metadata": {},
   "outputs": [
    {
     "data": {
      "text/plain": [
       "{224: 4.441181391556162,\n",
       " 19: 4.408249261603226,\n",
       " 474: 4.405732040371153,\n",
       " 1067: 4.3921234551983686,\n",
       " 513: 4.3464563125116165,\n",
       " 615: 4.344642916859069,\n",
       " 315: 4.32187929768168,\n",
       " 511: 4.321003608633588,\n",
       " 1172: 4.317523707966526,\n",
       " 344: 4.314741232902946}"
      ]
     },
     "execution_count": 339,
     "metadata": {},
     "output_type": "execute_result"
    }
   ],
   "source": [
    "top_ten_second_itaration"
   ]
  },
  {
   "cell_type": "code",
   "execution_count": 340,
   "id": "0d51badf",
   "metadata": {},
   "outputs": [],
   "source": [
    "sequential_group_recomendation_key.update(top_ten_second_itaration)"
   ]
  },
  {
   "cell_type": "code",
   "execution_count": 341,
   "id": "44b38c04",
   "metadata": {},
   "outputs": [],
   "source": [
    "group=[User_1,User_2,User_3]\n",
    "satisfaction_list=[]"
   ]
  },
  {
   "cell_type": "code",
   "execution_count": 342,
   "id": "5b271213",
   "metadata": {},
   "outputs": [],
   "source": [
    "satisfaction_list_two= calculate_satisfaction(top_ten_second_itaration, group)"
   ]
  },
  {
   "cell_type": "code",
   "execution_count": 343,
   "id": "23893282",
   "metadata": {},
   "outputs": [
    {
     "data": {
      "text/plain": [
       "[0.8192625980394297, 0.8308155529562951, 0.8297472375327761]"
      ]
     },
     "execution_count": 343,
     "metadata": {},
     "output_type": "execute_result"
    }
   ],
   "source": [
    "satisfaction_list_two"
   ]
  },
  {
   "cell_type": "code",
   "execution_count": 344,
   "id": "5b85b8b9",
   "metadata": {},
   "outputs": [],
   "source": [
    "alpha_third=max(satisfaction_list_two)-min(satisfaction_list_two)"
   ]
  },
  {
   "cell_type": "code",
   "execution_count": 345,
   "id": "ddb7005b",
   "metadata": {},
   "outputs": [
    {
     "data": {
      "text/plain": [
       "0.011552954916865366"
      ]
     },
     "execution_count": 345,
     "metadata": {},
     "output_type": "execute_result"
    }
   ],
   "source": [
    "\"Calculating value for third itaration alpha\"\n",
    "alpha_third"
   ]
  },
  {
   "cell_type": "markdown",
   "id": "b120367a",
   "metadata": {},
   "source": [
    "# Third itaration for Sequential Hybrid Aggregation Method"
   ]
  },
  {
   "cell_type": "code",
   "execution_count": 346,
   "id": "420d1bc9",
   "metadata": {},
   "outputs": [],
   "source": [
    "third_itaration= sequential_hybrid_aggregation_method(\n",
    "    sorted_predected_score_avarage_method, \n",
    "    sorted_predected_score_least_misery,\n",
    "    alpha_third)\n"
   ]
  },
  {
   "cell_type": "code",
   "execution_count": 347,
   "id": "2b6fce1b",
   "metadata": {},
   "outputs": [],
   "source": [
    "top_ten_third_itaration = dict(third_itaration[:10])"
   ]
  },
  {
   "cell_type": "code",
   "execution_count": 348,
   "id": "7285b166",
   "metadata": {},
   "outputs": [
    {
     "data": {
      "text/plain": [
       "{1099: 4.416400220662347,\n",
       " 968: 4.412427128697927,\n",
       " 408: 4.36721995480945,\n",
       " 427: 4.364078970599362,\n",
       " 61: 4.357357515772735,\n",
       " 459: 4.348244278072968,\n",
       " 207: 4.347664272863411,\n",
       " 178: 4.3454581631711156,\n",
       " 1006: 4.343699824052588,\n",
       " 1388: 4.343699824052588}"
      ]
     },
     "execution_count": 348,
     "metadata": {},
     "output_type": "execute_result"
    }
   ],
   "source": [
    "top_ten_third_itaration"
   ]
  },
  {
   "cell_type": "code",
   "execution_count": 349,
   "id": "14307f51",
   "metadata": {},
   "outputs": [],
   "source": [
    "sequential_group_recomendation_key.update(top_ten_third_itaration)"
   ]
  },
  {
   "cell_type": "code",
   "execution_count": 350,
   "id": "a999d222",
   "metadata": {},
   "outputs": [],
   "source": [
    "group=[User_1,User_2,User_3]\n",
    "satisfaction_list=[]"
   ]
  },
  {
   "cell_type": "code",
   "execution_count": 351,
   "id": "e709aecb",
   "metadata": {},
   "outputs": [],
   "source": [
    "satisfaction_list_three= calculate_satisfaction(top_ten_third_itaration, group)"
   ]
  },
  {
   "cell_type": "code",
   "execution_count": 352,
   "id": "f1c70540",
   "metadata": {},
   "outputs": [
    {
     "data": {
      "text/plain": [
       "[0.815164572997579, 0.7428408595989688, 0.8901326282651192]"
      ]
     },
     "execution_count": 352,
     "metadata": {},
     "output_type": "execute_result"
    }
   ],
   "source": [
    "satisfaction_list_three"
   ]
  },
  {
   "cell_type": "code",
   "execution_count": 353,
   "id": "472594a6",
   "metadata": {},
   "outputs": [],
   "source": [
    "alpha_forth=max(satisfaction_list_three)-min(satisfaction_list_three)"
   ]
  },
  {
   "cell_type": "code",
   "execution_count": 354,
   "id": "045fd105",
   "metadata": {},
   "outputs": [
    {
     "data": {
      "text/plain": [
       "0.14729176866615035"
      ]
     },
     "execution_count": 354,
     "metadata": {},
     "output_type": "execute_result"
    }
   ],
   "source": [
    "\"Calculating value for forth itaration alpha\"\n",
    "alpha_forth"
   ]
  },
  {
   "cell_type": "markdown",
   "id": "c57afe71",
   "metadata": {},
   "source": [
    "-------------------------------\n"
   ]
  },
  {
   "cell_type": "markdown",
   "id": "1168a801",
   "metadata": {},
   "source": [
    "# Mordified Sequential Hybrid Aggregation Method"
   ]
  },
  {
   "cell_type": "markdown",
   "id": "db5d9809",
   "metadata": {},
   "source": [
    "In our group recommendation method, we use the Variance Adjustment Factor (VAF) to moderate the influence of members who have a wide variety of tastes. This is done by applying VAF only to average scores, not to the least scores. So, if a member often rates things very differently, VAF reduces how much these ratings affect the group's average choice. However, this doesn't change their least favorite choices, ensuring these are still fully considered. This way, we make sure that the group's decisions are balanced, taking into account everyone's preferences, especially in diverse groups.\n",
    "\n",
    "$$\n",
    "\\text{modifiedScore}(G, d_z, j) = (1 - \\alpha_j)  \\times \\text{VAF}(G, d_z, j)\\times \\text{avarageScore}(G, d_z, j) + \\alpha_j  \\times \\text{leastScore}(G, d_z, j)\n",
    "$$\n",
    "\n"
   ]
  },
  {
   "cell_type": "markdown",
   "id": "0a18470d",
   "metadata": {},
   "source": [
    "In group recommender systems, the Variance Adjustment Factor (VAF) is key for balancing user influence. It's calculated based on the variance in a user's ratings. Higher variance indicates a wider range of preferences, suggesting less predictability in their choices. The VAF formula, VAF=1/1+Variance, inversely links VAF to variance. As a result, users with higher variance (more diverse tastes) have a lower VAF, reducing their weight in group decisions. This approach ensures that users with consistent, reliable preferences have a stronger influence on group recommendations, aiming for a more stable and predictable group consensus."
   ]
  },
  {
   "cell_type": "code",
   "execution_count": 468,
   "id": "64e7e100",
   "metadata": {},
   "outputs": [],
   "source": [
    "User_1 = 196\n",
    "User_2 = 222\n",
    "User_3 = 12\n",
    "\n",
    "group=[User_1,User_2,User_3]\n",
    "user_recomendations_coustom={} "
   ]
  },
  {
   "cell_type": "code",
   "execution_count": 469,
   "id": "5677f547",
   "metadata": {},
   "outputs": [],
   "source": [
    "for user in group:\n",
    "    uses_recomendation=get_recommended_movies(user, user_item_matrix, correlation_matrix)\n",
    "    user_recomendations_coustom[user]=  dict(uses_recomendation)"
   ]
  },
  {
   "cell_type": "code",
   "execution_count": 470,
   "id": "53170b39",
   "metadata": {},
   "outputs": [],
   "source": [
    "def calculate_user_vaf(user_ratings):\n",
    "    # Calculate the variance\n",
    "    mean_rating = sum(user_ratings) / len(user_ratings)\n",
    "    variance = sum((rating - mean_rating) ** 2 for rating in user_ratings) / len(user_ratings)\n",
    "\n",
    "    # Calculate VAF (inversely proportional to the variance)\n",
    "    vaf = 1 / (1 + variance)\n",
    "    return vaf"
   ]
  },
  {
   "cell_type": "code",
   "execution_count": 471,
   "id": "1c42b532",
   "metadata": {},
   "outputs": [],
   "source": [
    "User_1_vaf=calculate_user_vaf(user_recomendations_coustom[User_1].values())"
   ]
  },
  {
   "cell_type": "code",
   "execution_count": 472,
   "id": "d8922570",
   "metadata": {},
   "outputs": [],
   "source": [
    "User_2_vaf=calculate_user_vaf(user_recomendations_coustom[User_2].values())"
   ]
  },
  {
   "cell_type": "code",
   "execution_count": 473,
   "id": "37bc83cc",
   "metadata": {},
   "outputs": [],
   "source": [
    "User_3_vaf=calculate_user_vaf(user_recomendations_coustom[User_3].values())"
   ]
  },
  {
   "cell_type": "code",
   "execution_count": 474,
   "id": "c8f86442",
   "metadata": {},
   "outputs": [],
   "source": [
    "group_vaf=(User_1_vaf+User_2_vaf+User_3_vaf)/3"
   ]
  },
  {
   "cell_type": "code",
   "execution_count": 475,
   "id": "a95cca87",
   "metadata": {},
   "outputs": [
    {
     "data": {
      "text/plain": [
       "0.7279004499822074"
      ]
     },
     "execution_count": 475,
     "metadata": {},
     "output_type": "execute_result"
    }
   ],
   "source": [
    "group_vaf"
   ]
  },
  {
   "cell_type": "markdown",
   "id": "25f6acfd",
   "metadata": {},
   "source": [
    "# First itaration for Mordified Sequential Hybrid Aggregation Method"
   ]
  },
  {
   "cell_type": "code",
   "execution_count": 476,
   "id": "1df8f65b",
   "metadata": {},
   "outputs": [],
   "source": [
    "sequential_group_recomendation_key={}\n",
    "\"Initially first aloha is zero\"\n",
    "alpha_first=0"
   ]
  },
  {
   "cell_type": "code",
   "execution_count": 477,
   "id": "8a1da1d0",
   "metadata": {},
   "outputs": [],
   "source": [
    "def mordified_sequential_hybrid_aggregation_method(average_method_scores, least_misery_scores, alpha,group_vaf):\n",
    "    group_scores = {}\n",
    "     \n",
    "    for movie_id, avg_score in average_method_scores:\n",
    "        least_score = least_misery_scores.get(movie_id, 0)\n",
    "        score = (1 - alpha) *group_vaf*avg_score + alpha * least_score\n",
    "        if movie_id not in sequential_group_recomendation_key:\n",
    "            group_scores[movie_id] = score\n",
    "    sorted_group_scores = sorted(group_scores.items(), key=lambda x: x[1], reverse=True)\n",
    "    return sorted_group_scores"
   ]
  },
  {
   "cell_type": "code",
   "execution_count": 478,
   "id": "d27db6b0",
   "metadata": {},
   "outputs": [],
   "source": [
    "first_itaration= mordified_sequential_hybrid_aggregation_method(\n",
    "    sorted_predected_score_avarage_method, \n",
    "    sorted_predected_score_least_misery,\n",
    "    alpha_first,\n",
    "    group_vaf)\n"
   ]
  },
  {
   "cell_type": "code",
   "execution_count": 479,
   "id": "e55e82dd",
   "metadata": {},
   "outputs": [],
   "source": [
    "top_ten_first_itaration = dict(first_itaration[:10])"
   ]
  },
  {
   "cell_type": "code",
   "execution_count": 480,
   "id": "6c0d879e",
   "metadata": {},
   "outputs": [],
   "source": [
    "sequential_group_recomendation_key.update(top_ten_first_itaration)"
   ]
  },
  {
   "cell_type": "code",
   "execution_count": 481,
   "id": "2fb31880",
   "metadata": {},
   "outputs": [
    {
     "data": {
      "text/plain": [
       "{361: 3.594286634372713,\n",
       " 1233: 3.5342605758176853,\n",
       " 60: 3.4998764511178613,\n",
       " 902: 3.4370750861420176,\n",
       " 923: 3.3583394722796203,\n",
       " 316: 3.3342982968959194,\n",
       " 515: 3.312208040469288,\n",
       " 10: 3.2837436610158512,\n",
       " 664: 3.2768882551796303,\n",
       " 272: 3.2633776944233293}"
      ]
     },
     "execution_count": 481,
     "metadata": {},
     "output_type": "execute_result"
    }
   ],
   "source": [
    "top_ten_first_itaration"
   ]
  },
  {
   "cell_type": "markdown",
   "id": "144f5839",
   "metadata": {},
   "source": [
    "## The 10 movie recomendation for a group with Mordified Sequential Hybrid Aggregation Method for first itaration"
   ]
  },
  {
   "cell_type": "code",
   "execution_count": 482,
   "id": "738abc4f",
   "metadata": {},
   "outputs": [],
   "source": [
    "file_path_movies = 'C:\\\\Users\\\\ASUS\\\\Desktop\\\\Recomendor System\\\\Exercise-1\\\\ml-100k\\\\u.item'"
   ]
  },
  {
   "cell_type": "code",
   "execution_count": 483,
   "id": "e8200267",
   "metadata": {},
   "outputs": [],
   "source": [
    "df_movies = pd.read_csv(file_path_movies, sep='|',encoding='ISO-8859-1')\n",
    "num_columns = len(df_movies.columns)\n",
    "df_movies = pd.read_csv(file_path_movies, sep='|', encoding='ISO-8859-1', header=None, names=range(num_columns))"
   ]
  },
  {
   "cell_type": "code",
   "execution_count": 484,
   "id": "d55411c8",
   "metadata": {},
   "outputs": [],
   "source": [
    "df_movies=df_movies[[0,1]]"
   ]
  },
  {
   "cell_type": "code",
   "execution_count": 485,
   "id": "45a6d77e",
   "metadata": {},
   "outputs": [],
   "source": [
    "df_movies = df_movies.set_index(0)"
   ]
  },
  {
   "cell_type": "code",
   "execution_count": 497,
   "id": "fda6db07",
   "metadata": {},
   "outputs": [
    {
     "name": "stdout",
     "output_type": "stream",
     "text": [
      "The to 10 most recomended movies for the group with user 196, 222 and 12 with Mordified Sequential Hybrid Aggregation Method is given below:\n",
      "\n",
      "1 : Incognito (1997)\n",
      "2 : Nénette et Boni (1996)\n",
      "3 : Three Colors: Blue (1993)\n",
      "4 : Big Lebowski, The (1998)\n",
      "5 : Raise the Red Lantern (1991)\n",
      "6 : As Good As It Gets (1997)\n",
      "7 : Boot, Das (1981)\n",
      "8 : Richard III (1995)\n",
      "9 : Paris, Texas (1984)\n",
      "10 : Good Will Hunting (1997)\n"
     ]
    }
   ],
   "source": [
    "print(f\"The to 10 most recomended movies for the group with user {group[0]}, {group[1]} and {group[2]} with Mordified Sequential Hybrid Aggregation Method is given below:\\n\")\n",
    "j=1\n",
    "for index,i in top_ten_first_itaration.items():\n",
    "    print(j,\":\",df_movies.loc[index][1])\n",
    "    j+=1"
   ]
  },
  {
   "cell_type": "code",
   "execution_count": 487,
   "id": "de3cf37e",
   "metadata": {},
   "outputs": [],
   "source": [
    "group=[User_1,User_2,User_3]\n",
    "satisfaction_list=[]"
   ]
  },
  {
   "cell_type": "code",
   "execution_count": 488,
   "id": "6f3ba902",
   "metadata": {},
   "outputs": [],
   "source": [
    "satisfaction_list_one= calculate_satisfaction(top_ten_first_itaration, group)"
   ]
  },
  {
   "cell_type": "code",
   "execution_count": 489,
   "id": "71946039",
   "metadata": {},
   "outputs": [],
   "source": [
    "\"Calculating value for second itaration alpha\"\n",
    "alpha_second=max(satisfaction_list_one)-min(satisfaction_list_one)"
   ]
  },
  {
   "cell_type": "code",
   "execution_count": 490,
   "id": "ccc43e20",
   "metadata": {},
   "outputs": [
    {
     "data": {
      "text/plain": [
       "0.09084144838039065"
      ]
     },
     "execution_count": 490,
     "metadata": {},
     "output_type": "execute_result"
    }
   ],
   "source": [
    "alpha_second"
   ]
  },
  {
   "cell_type": "markdown",
   "id": "75a29c19",
   "metadata": {},
   "source": [
    "# Second itaration for Mordified Sequential Hybrid Aggregation Method"
   ]
  },
  {
   "cell_type": "code",
   "execution_count": 491,
   "id": "aad0aca1",
   "metadata": {},
   "outputs": [],
   "source": [
    "second_itaration= mordified_sequential_hybrid_aggregation_method(\n",
    "    sorted_predected_score_avarage_method, \n",
    "    sorted_predected_score_least_misery,\n",
    "    alpha_second,\n",
    "    group_vaf)"
   ]
  },
  {
   "cell_type": "code",
   "execution_count": 492,
   "id": "2e78068d",
   "metadata": {},
   "outputs": [],
   "source": [
    "top_ten_second_itaration = dict(second_itaration[:10])"
   ]
  },
  {
   "cell_type": "code",
   "execution_count": 493,
   "id": "cba7beeb",
   "metadata": {},
   "outputs": [],
   "source": [
    "sequential_group_recomendation_key.update(top_ten_second_itaration)"
   ]
  },
  {
   "cell_type": "code",
   "execution_count": 494,
   "id": "782254f2",
   "metadata": {},
   "outputs": [
    {
     "data": {
      "text/plain": [
       "{224: 3.335337289056635,\n",
       " 19: 3.308162852798879,\n",
       " 1067: 3.3020196956484797,\n",
       " 474: 3.2984847991694273,\n",
       " 513: 3.2592950815810666,\n",
       " 615: 3.2565823189046688,\n",
       " 511: 3.2423822100429422,\n",
       " 315: 3.2408417839894597,\n",
       " 344: 3.236813255872582,\n",
       " 943: 3.2362999072574343}"
      ]
     },
     "execution_count": 494,
     "metadata": {},
     "output_type": "execute_result"
    }
   ],
   "source": [
    "top_ten_second_itaration"
   ]
  },
  {
   "cell_type": "markdown",
   "id": "c1d03886",
   "metadata": {},
   "source": [
    "## The 10 movie recomendation for a group with Mordified Sequential Hybrid Aggregation Method for second itaration"
   ]
  },
  {
   "cell_type": "code",
   "execution_count": 498,
   "id": "c48e982a",
   "metadata": {},
   "outputs": [
    {
     "name": "stdout",
     "output_type": "stream",
     "text": [
      "The to 10 most recomended movies for the group with user 196, 222 and 12 with Mordified Sequential Hybrid Aggregation Method is given below:\n",
      "\n",
      "1 : Ridicule (1996)\n",
      "2 : Antonia's Line (1995)\n",
      "3 : Bottle Rocket (1996)\n",
      "4 : Dr. Strangelove or: How I Learned to Stop Worrying and Love the Bomb (1963)\n",
      "5 : Third Man, The (1949)\n",
      "6 : 39 Steps, The (1935)\n",
      "7 : Lawrence of Arabia (1962)\n",
      "8 : Apt Pupil (1998)\n",
      "9 : Apostle, The (1997)\n",
      "10 : Killing Zoe (1994)\n"
     ]
    }
   ],
   "source": [
    "print(f\"The to 10 most recomended movies for the group with user {group[0]}, {group[1]} and {group[2]} with Mordified Sequential Hybrid Aggregation Method is given below:\\n\")\n",
    "j=1\n",
    "for index,i in top_ten_second_itaration.items():\n",
    "    print(j,\":\",df_movies.loc[index][1])\n",
    "    j+=1"
   ]
  },
  {
   "cell_type": "code",
   "execution_count": 499,
   "id": "86540547",
   "metadata": {},
   "outputs": [],
   "source": [
    "satisfaction_list_two= calculate_satisfaction(top_ten_second_itaration, group)"
   ]
  },
  {
   "cell_type": "code",
   "execution_count": 500,
   "id": "1e39e2ba",
   "metadata": {},
   "outputs": [],
   "source": [
    "\"Calculating value for second itaration alpha\"\n",
    "alpha_third=max(satisfaction_list_two)-min(satisfaction_list_two)"
   ]
  },
  {
   "cell_type": "code",
   "execution_count": 501,
   "id": "2d7a3b39",
   "metadata": {},
   "outputs": [
    {
     "data": {
      "text/plain": [
       "0.11487525338021298"
      ]
     },
     "execution_count": 501,
     "metadata": {},
     "output_type": "execute_result"
    }
   ],
   "source": [
    "alpha_third"
   ]
  },
  {
   "cell_type": "markdown",
   "id": "cf9d786a",
   "metadata": {},
   "source": [
    "# Third itaration for Mordified Sequential Hybrid Aggregation Method"
   ]
  },
  {
   "cell_type": "code",
   "execution_count": 502,
   "id": "76a0c0d4",
   "metadata": {},
   "outputs": [],
   "source": [
    "thrid_itaration= mordified_sequential_hybrid_aggregation_method(\n",
    "    sorted_predected_score_avarage_method, \n",
    "    sorted_predected_score_least_misery,\n",
    "    alpha_second,\n",
    "    group_vaf)"
   ]
  },
  {
   "cell_type": "code",
   "execution_count": 505,
   "id": "be2c25f1",
   "metadata": {},
   "outputs": [],
   "source": [
    "top_ten_thrid_itaration = dict(thrid_itaration[:10])"
   ]
  },
  {
   "cell_type": "code",
   "execution_count": 506,
   "id": "7ae14661",
   "metadata": {},
   "outputs": [],
   "source": [
    "sequential_group_recomendation_key.update(top_ten_thrid_itaration)"
   ]
  },
  {
   "cell_type": "code",
   "execution_count": 507,
   "id": "2c42a491",
   "metadata": {},
   "outputs": [
    {
     "data": {
      "text/plain": [
       "{1172: 3.232092227505501,\n",
       " 178: 3.2185213243318698,\n",
       " 1099: 3.210231872820098,\n",
       " 1006: 3.2086204617878287,\n",
       " 1388: 3.2086204617878287,\n",
       " 459: 3.208515802554887,\n",
       " 427: 3.2079043976648163,\n",
       " 968: 3.207571841034361,\n",
       " 1127: 3.207445401350104,\n",
       " 657: 3.2062205405927653}"
      ]
     },
     "execution_count": 507,
     "metadata": {},
     "output_type": "execute_result"
    }
   ],
   "source": [
    "top_ten_thrid_itaration"
   ]
  },
  {
   "cell_type": "markdown",
   "id": "689fe695",
   "metadata": {},
   "source": [
    "## The 10 movie recomendation for a group with Mordified Sequential Hybrid Aggregation Method for third itaration"
   ]
  },
  {
   "cell_type": "code",
   "execution_count": 508,
   "id": "73f3e8e5",
   "metadata": {},
   "outputs": [
    {
     "name": "stdout",
     "output_type": "stream",
     "text": [
      "The to 10 most recomended movies for the group with user 196, 222 and 12 with Mordified Sequential Hybrid Aggregation Method is given below:\n",
      "\n",
      "1 : Women, The (1939)\n",
      "2 : 12 Angry Men (1957)\n",
      "3 : Red Firecracker, Green Firecracker (1994)\n",
      "4 : Until the End of the World (Bis ans Ende der Welt) (1991)\n",
      "5 : Gabbeh (1996)\n",
      "6 : Cry, the Beloved Country (1995)\n",
      "7 : To Kill a Mockingbird (1962)\n",
      "8 : Inspector General, The (1949)\n",
      "9 : Truman Show, The (1998)\n",
      "10 : Manchurian Candidate, The (1962)\n"
     ]
    }
   ],
   "source": [
    "print(f\"The to 10 most recomended movies for the group with user {group[0]}, {group[1]} and {group[2]} with Mordified Sequential Hybrid Aggregation Method is given below:\\n\")\n",
    "j=1\n",
    "for index,i in top_ten_thrid_itaration.items():\n",
    "    print(j,\":\",df_movies.loc[index][1])\n",
    "    j+=1"
   ]
  },
  {
   "cell_type": "markdown",
   "id": "a925d9c3",
   "metadata": {},
   "source": [
    "\n"
   ]
  },
  {
   "cell_type": "code",
   "execution_count": null,
   "id": "44b8ec12",
   "metadata": {},
   "outputs": [],
   "source": []
  }
 ],
 "metadata": {
  "kernelspec": {
   "display_name": "Python 3 (ipykernel)",
   "language": "python",
   "name": "python3"
  },
  "language_info": {
   "codemirror_mode": {
    "name": "ipython",
    "version": 3
   },
   "file_extension": ".py",
   "mimetype": "text/x-python",
   "name": "python",
   "nbconvert_exporter": "python",
   "pygments_lexer": "ipython3",
   "version": "3.10.13"
  }
 },
 "nbformat": 4,
 "nbformat_minor": 5
}
